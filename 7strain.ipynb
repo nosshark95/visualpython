{
 "cells": [
  {
   "cell_type": "code",
   "execution_count": null,
   "metadata": {},
   "outputs": [],
   "source": [
    "import pybinding as pb\n",
    "import numpy as np\n",
    "import matplotlib.pyplot as plt\n",
    "\n",
    "pb.pltutils.use_style()\n",
    "%matplotlib inline"
   ]
  },
  {
   "cell_type": "markdown",
   "metadata": {},
   "source": [
    "# Defects and strain\n",
    "\n",
    "This section will introduce [`@site_state_modifier`](http://docs.pybinding.site/page/tutorial/../_api/pybinding.site_state_modifier.html#pybinding.site_state_modifier) and [`@site_position_modifier`](http://docs.pybinding.site/page/tutorial/../_api/pybinding.site_position_modifier.html#pybinding.site_position_modifier) which can be used to add defects and strain to the model. These modifiers are applied to the structure of the system before the Hamiltonian matrix is created.\n",
    "\n",
    "[Download this page as a Jupyter notebook](http://docs.pybinding.site/page/_downloads/strain.ipynb)\n",
    "\n",
    "## Vacancies\n",
    "\n",
    "A [`@site_state_modifier`](http://docs.pybinding.site/page/tutorial/../_api/pybinding.site_state_modifier.html#pybinding.site_state_modifier) can be used to create vacancies in a crystal lattice. The definition is very similar to the onsite and hopping modifiers explained in the previous section."
   ]
  },
  {
   "cell_type": "code",
   "execution_count": null,
   "metadata": {},
   "outputs": [],
   "source": [
    "def vacancy(position, radius):\n",
    "    @pb.site_state_modifier\n",
    "    def modifier(state, x, y):\n",
    "        x0, y0 = position\n",
    "        state[(x-x0)**2 + (y-y0)**2 < radius**2] = False\n",
    "        return state\n",
    "    return modifier"
   ]
  },
  {
   "cell_type": "markdown",
   "metadata": {},
   "source": [
    "The `state` argument indicates the current boolean state of a lattice site. Only valid sites (`True` state) will be included in the final Hamiltonian matrix. Therefore, setting the state of sites within a small radius to `False` will exclude them from the final system. The `x` and `y` arguments are lattice site positions. As with the other modifiers, the arguments are optional (`z` is not needed for this example) but the full signature of the site state modifier can be found on its [`API reference page`](http://docs.pybinding.site/page/tutorial/../_api/pybinding.site_state_modifier.html#pybinding.site_state_modifier).\n",
    "\n",
    "This is actually very similar to the way a [`FreeformShape`](http://docs.pybinding.site/page/tutorial/../_api/pybinding.FreeformShape.html#pybinding.FreeformShape) works. In fact, it is possible to create defects by defining them directly in the shape. However, such an approach would not be very flexible since we would need to create an entire new shape in order to change either the vacancy type or the shape itself. By defining the vacancy as a modifier, we can simply compose it with any existing shapes:"
   ]
  },
  {
   "cell_type": "code",
   "execution_count": null,
   "metadata": {},
   "outputs": [],
   "source": [
    "from pybinding.repository import graphene\n",
    "\n",
    "model = pb.Model(\n",
    "    graphene.monolayer(),\n",
    "    pb.rectangle(2),\n",
    "    vacancy(position=[0, 0], radius=0.1)\n",
    ")\n",
    "model.plot()"
   ]
  },
  {
   "cell_type": "markdown",
   "metadata": {},
   "source": [
    "The resulting 2-atom vacancy is visible in the center of the system. The two vacant sites are completely removed from the final Hamiltonian matrix. If we were to inspect the number of rows and columns by looking up `model.hamiltonian.shape`, we would see that the size of the matrix is reduced by 2.\n",
    "\n",
    "Any number of modifiers can be included in the model and they will compose as expected. We can take advantage of this and create four different vacancies, with 1 to 4 missing atoms:"
   ]
  },
  {
   "cell_type": "code",
   "execution_count": null,
   "metadata": {},
   "outputs": [],
   "source": [
    "model = pb.Model(\n",
    "    graphene.monolayer(),\n",
    "    pb.rectangle(2),\n",
    "    vacancy(position=[-0.50,  0.50], radius=0.1),\n",
    "    vacancy(position=[ 0.50,  0.45], radius=0.15),\n",
    "    vacancy(position=[-0.45, -0.45], radius=0.15),\n",
    "    vacancy(position=[ 0.50, -0.50], radius=0.2),\n",
    ")\n",
    "model.plot()"
   ]
  },
  {
   "cell_type": "markdown",
   "metadata": {},
   "source": [
    "## Layer defect\n",
    "\n",
    "The site state modifier also has access to sublattice information. This can be used, for example, with bilayer graphene to remove a single layer in a specific area. We'll use the bilayer lattice that's included in the [Material Repository](http://docs.pybinding.site/page/tutorial/../materials/index.html). The `graphene.bilayer()` lattice is laid out so that sublattices A1 and B1 belong to the top layer, while A2 and B2 are on the bottom."
   ]
  },
  {
   "cell_type": "code",
   "execution_count": null,
   "metadata": {},
   "outputs": [],
   "source": [
    "def scrape_top_layer(position, radius):\n",
    "    \"\"\"Remove the top layer of graphene in the area specified by position and radius\"\"\"\n",
    "    @pb.site_state_modifier\n",
    "    def modifier(state, x, y, sub_id):\n",
    "        x0, y0 = position\n",
    "        is_within_radius = (x-x0)**2 + (y-y0)**2 < radius**2\n",
    "        is_top_layer = np.logical_or(sub_id == 'A1', sub_id == 'B1')\n",
    "        final_condition = np.logical_and(is_within_radius, is_top_layer)\n",
    "        state[final_condition] = False\n",
    "        return state\n",
    "    return modifier\n",
    "\n",
    "model = pb.Model(\n",
    "    graphene.bilayer(),\n",
    "    pb.rectangle(2),\n",
    "    scrape_top_layer(position=[0, 0], radius=0.5)\n",
    ")\n",
    "model.plot()"
   ]
  },
  {
   "cell_type": "markdown",
   "metadata": {},
   "source": [
    "The central monolayer area is nicely visible in the figure. We can actually create the same structure in a different way: by considering the `z` position of the lattice site to distinguish the layers. An alternative modifier definition is given below. It would generate the same figure. Which method is more convenient is up to the user."
   ]
  },
  {
   "cell_type": "code",
   "execution_count": null,
   "metadata": {},
   "outputs": [],
   "source": [
    "def scrape_top_layer_alt(position, radius):\n",
    "    \"\"\"Alternative definition of `scrape_top_layer`\"\"\"\n",
    "    @pb.site_state_modifier\n",
    "    def modifier(state, x, y, z):\n",
    "        x0, y0 = position\n",
    "        is_within_radius = (x-x0)**2 + (y-y0)**2 < radius**2\n",
    "        is_top_layer = (z == 0)\n",
    "        final_condition = np.logical_and(is_within_radius, is_top_layer)\n",
    "        state[final_condition] = False\n",
    "        return state\n",
    "    return modifier"
   ]
  },
  {
   "cell_type": "markdown",
   "metadata": {},
   "source": [
    "> As with the onsite and hopping modifiers, all the arguments are given as numpy arrays. Therefore, we must use the array-specific [`np.logical_or()`](https://docs.scipy.org/doc/numpy/reference/generated/numpy.logical_or.html#numpy.logical_or)/ [`np.logical_and()`](https://docs.scipy.org/doc/numpy/reference/generated/numpy.logical_and.html#numpy.logical_and) functions instead of the plain `or`/`and` keywords.\n",
    "\n",
    "## Strain\n",
    "\n",
    "A [`@site_position_modifier`](http://docs.pybinding.site/page/tutorial/../_api/pybinding.site_position_modifier.html#pybinding.site_position_modifier) can be used to model the lattice site displacement caused by strain. Let's start with a simple triangular system:"
   ]
  },
  {
   "cell_type": "code",
   "execution_count": null,
   "metadata": {},
   "outputs": [],
   "source": [
    "from math import pi\n",
    "\n",
    "model = pb.Model(\n",
    "    graphene.monolayer(),\n",
    "    pb.regular_polygon(num_sides=3, radius=2, angle=pi),\n",
    ")\n",
    "model.plot()"
   ]
  },
  {
   "cell_type": "markdown",
   "metadata": {},
   "source": [
    "We're going to apply strain in three directions, as if we are pulling outward on the vertices of the triangle. The displacement function for this kind of strain is given below. The `c` parameter lets us control the intensity of the strain."
   ]
  },
  {
   "cell_type": "code",
   "execution_count": null,
   "metadata": {},
   "outputs": [],
   "source": [
    "def triaxial_displacement(c):\n",
    "    @pb.site_position_modifier\n",
    "    def displacement(x, y, z):\n",
    "        ux = 2*c * x*y\n",
    "        uy = c * (x**2 - y**2)\n",
    "        return x + ux, y + uy, z\n",
    "    return displacement"
   ]
  },
  {
   "cell_type": "markdown",
   "metadata": {},
   "source": [
    "The modifier function takes the `x`, `y`, `z` coordinates as arguments. The displacement `ux`, `uy` is computed and the modified coordinates are returned. The `z` argument is returned unchanged but we still need it here because the modifier is expected to always return all three."
   ]
  },
  {
   "cell_type": "code",
   "execution_count": null,
   "metadata": {},
   "outputs": [],
   "source": [
    "model = pb.Model(\n",
    "    graphene.monolayer(),\n",
    "    pb.regular_polygon(num_sides=3, radius=2, angle=pi),\n",
    "    triaxial_displacement(c=0.15)\n",
    ")\n",
    "model.plot()"
   ]
  },
  {
   "cell_type": "markdown",
   "metadata": {},
   "source": [
    "As seen in the figure, the displacement has been applied to the lattice sites and the new position data is saved in the system. However, the hopping energies have not been modified yet. Every hopping element of the Hamiltonian matrix is equal to the hopping energy of pristine graphene:"
   ]
  },
  {
   "cell_type": "code",
   "execution_count": null,
   "metadata": {},
   "outputs": [],
   "source": [
    "np.all(model.hamiltonian.data == -2.8)"
   ]
  },
  {
   "cell_type": "markdown",
   "metadata": {},
   "source": [
    "We now need to use the new position data to modify the hopping energy according to the relation $t = t_0 e^{-\\beta (\\frac{d}{a_{cc}} - 1)}$, where $t_0$ is the original unstrained hopping energy, $\\beta$ controls the strength of the strain-induced hopping modulation, $d$ is the strained distance between two atoms and $a_{cc}$ is the unstrained carbon-carbon distance. This can be implemented using a [`@hopping_energy_modifier`](http://docs.pybinding.site/page/tutorial/../_api/pybinding.hopping_energy_modifier.html#pybinding.hopping_energy_modifier):"
   ]
  },
  {
   "cell_type": "code",
   "execution_count": null,
   "metadata": {},
   "outputs": [],
   "source": [
    "@pb.hopping_energy_modifier\n",
    "def strained_hopping(energy, x1, y1, z1, x2, y2, z2):\n",
    "    d = np.sqrt((x1-x2)**2 + (y1-y2)**2 + (z1-z2)**2)\n",
    "    beta = 3.37\n",
    "    w = d / graphene.a_cc - 1\n",
    "    return energy * np.exp(-beta*w)"
   ]
  },
  {
   "cell_type": "markdown",
   "metadata": {},
   "source": [
    "The structural modifiers (site state and position) are always automatically applied to the model before energy modifiers (onsite and hopping). Thus, our `strain_hopping` modifier will get the new displaced coordinates as its arguments, from which it will calculate the strained hopping energy."
   ]
  },
  {
   "cell_type": "code",
   "execution_count": null,
   "metadata": {},
   "outputs": [],
   "source": [
    "model = pb.Model(\n",
    "    graphene.monolayer(),\n",
    "    pb.regular_polygon(num_sides=3, radius=2, angle=pi),\n",
    "    triaxial_displacement(c=0.15),\n",
    "    strained_hopping\n",
    ")"
   ]
  },
  {
   "cell_type": "markdown",
   "metadata": {},
   "source": [
    "Including the hopping modifier along with the displacement will yield position dependent hopping energy, thus the elements of the Hamiltonian will no longer be all equal:"
   ]
  },
  {
   "cell_type": "code",
   "execution_count": null,
   "metadata": {},
   "outputs": [],
   "source": [
    "np.all(model.hamiltonian.data == -2.8)"
   ]
  },
  {
   "cell_type": "markdown",
   "metadata": {},
   "source": [
    "However, it isn't convenient to keep track of the displacement and strained hoppings separately. Instead, we can package them together in one function which is going to return both modifiers:"
   ]
  },
  {
   "cell_type": "code",
   "execution_count": null,
   "metadata": {},
   "outputs": [],
   "source": [
    "def triaxial_strain(c, beta=3.37):\n",
    "    \"\"\"Produce both the displacement and hopping energy modifier\"\"\"\n",
    "    @pb.site_position_modifier\n",
    "    def displacement(x, y, z):\n",
    "        ux = 2*c * x*y\n",
    "        uy = c * (x**2 - y**2)\n",
    "        return x + ux, y + uy, z\n",
    "\n",
    "    @pb.hopping_energy_modifier\n",
    "    def strained_hopping(energy, x1, y1, z1, x2, y2, z2):\n",
    "        l = np.sqrt((x1-x2)**2 + (y1-y2)**2 + (z1-z2)**2)\n",
    "        w = l / graphene.a_cc - 1\n",
    "        return energy * np.exp(-beta*w)\n",
    "\n",
    "    return displacement, strained_hopping"
   ]
  },
  {
   "cell_type": "markdown",
   "metadata": {},
   "source": [
    "The `triaxial_strain` function now has everything we need. We'll apply it to a slightly larger system so that we can clearly calculate the local density of states (LDOS). For more information about this computation method see the [Kernel polynomial method](http://docs.pybinding.site/page/tutorial/kpm.html) section. Right now, it's enough to know that we will calculate the LDOS at the center of the strained system, separately for sublattices A and B."
   ]
  },
  {
   "cell_type": "code",
   "execution_count": null,
   "metadata": {},
   "outputs": [],
   "source": [
    "model = pb.Model(\n",
    "    graphene.monolayer(),\n",
    "    pb.regular_polygon(num_sides=3, radius=40, angle=pi),\n",
    "    triaxial_strain(c=0.0025)\n",
    ")\n",
    "kpm = pb.kpm(model)\n",
    "\n",
    "for sub_name in ['A', 'B']:\n",
    "    ldos = kpm.calc_ldos(energy=np.linspace(-1, 1, 500), broadening=0.03,\n",
    "                         position=[0, 0], sublattice=sub_name)\n",
    "    ldos.plot(label=sub_name, ls=\"--\" if sub_name == \"B\" else \"-\")\n",
    "pb.pltutils.legend()"
   ]
  },
  {
   "cell_type": "markdown",
   "metadata": {},
   "source": [
    "Strain in graphene has an effect similar to a magnetic field. That's why we see Landau-level-like features in the LDOS. Note that the zero-energy peak has double intensity on one sublattice but zero on the other: this is a unique feature of the strain-induced pseudo-magnetic field.\n",
    "\n",
    "## Further reading\n",
    "\n",
    "Take a look at the [Modifiers](http://docs.pybinding.site/page/tutorial/../api.html#modifiers-api) API reference for more information.\n",
    "\n",
    "## Example\n",
    "\n",
    "[Download source code](http://docs.pybinding.site/page/_downloads/strain_example.py)"
   ]
  },
  {
   "cell_type": "code",
   "execution_count": null,
   "metadata": {},
   "outputs": [],
   "source": [
    "\"\"\"Strain a triangular system by pulling on its vertices\"\"\"\n",
    "import pybinding as pb\n",
    "import numpy as np\n",
    "import matplotlib.pyplot as plt\n",
    "from pybinding.repository import graphene\n",
    "from math import pi\n",
    "\n",
    "pb.pltutils.use_style()\n",
    "\n",
    "\n",
    "def triaxial_strain(c):\n",
    "    \"\"\"Strain-induced displacement and hopping energy modification\"\"\"\n",
    "    @pb.site_position_modifier\n",
    "    def displacement(x, y, z):\n",
    "        ux = 2*c * x*y\n",
    "        uy = c * (x**2 - y**2)\n",
    "        return x + ux, y + uy, z\n",
    "\n",
    "    @pb.hopping_energy_modifier\n",
    "    def strained_hopping(energy, x1, y1, z1, x2, y2, z2):\n",
    "        l = np.sqrt((x1-x2)**2 + (y1-y2)**2 + (z1-z2)**2)\n",
    "        w = l / graphene.a_cc - 1\n",
    "        return energy * np.exp(-3.37 * w)\n",
    "\n",
    "    return displacement, strained_hopping\n",
    "\n",
    "\n",
    "model = pb.Model(\n",
    "    graphene.monolayer(),\n",
    "    pb.regular_polygon(num_sides=3, radius=2, angle=pi),\n",
    "    triaxial_strain(c=0.1)\n",
    ")\n",
    "model.plot()\n",
    "plt.show()"
   ]
  },
  {
   "cell_type": "code",
   "execution_count": null,
   "metadata": {},
   "outputs": [],
   "source": [
    "plt.figure(figsize=(7, 2.5))\n",
    "grid = plt.GridSpec(nrows=1, ncols=2)\n",
    "for block, energy in zip(grid, [0, 0.25]):\n",
    "    plt.subplot(block)\n",
    "    plt.title(\"E = {} eV\".format(energy))\n",
    "\n",
    "    solver = pb.solver.arpack(model, k=30, sigma=energy)\n",
    "    ldos_map = solver.calc_spatial_ldos(energy=energy, broadening=0.03)\n",
    "    ldos_map.plot()\n",
    "    pb.pltutils.colorbar(label=\"LDOS\")\n",
    "\n",
    "plt.show()"
   ]
  }
 ],
 "metadata": {
  "kernelspec": {
   "display_name": "Python 2",
   "language": "python",
   "name": "python2"
  },
  "language_info": {
   "codemirror_mode": {
    "name": "ipython",
    "version": 2
   },
   "file_extension": ".py",
   "mimetype": "text/x-python",
   "name": "python",
   "nbconvert_exporter": "python",
   "pygments_lexer": "ipython2",
   "version": "2.7.12"
  }
 },
 "nbformat": 4,
 "nbformat_minor": 2
}
