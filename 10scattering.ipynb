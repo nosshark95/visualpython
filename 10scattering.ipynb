{
 "cells": [
  {
   "cell_type": "code",
   "execution_count": null,
   "metadata": {},
   "outputs": [],
   "source": [
    "import pybinding as pb\n",
    "import numpy as np\n",
    "import matplotlib.pyplot as plt\n",
    "\n",
    "pb.pltutils.use_style()\n",
    "%matplotlib inline"
   ]
  },
  {
   "cell_type": "markdown",
   "metadata": {},
   "source": [
    "# Scattering model\n",
    "\n",
    "This section introduces the ability to attach semi-infinite leads to a finite-sized central region, thereby creating a scattering model.\n",
    "\n",
    "[Download this page as a Jupyter notebook](http://docs.pybinding.site/page/_downloads/scattering.ipynb)\n",
    "\n",
    "## Attaching leads\n",
    "\n",
    "To start with, we need a finite-sized system to serve as the central scattering region. We'll just make a simple ring. Refer to the [Finite size](http://docs.pybinding.site/page/tutorial/finite.html) section for more details."
   ]
  },
  {
   "cell_type": "code",
   "execution_count": null,
   "metadata": {},
   "outputs": [],
   "source": [
    "from pybinding.repository import graphene\n",
    "\n",
    "def ring(inner_radius, outer_radius):\n",
    "    \"\"\"A simple ring shape\"\"\"\n",
    "    def contains(x, y, z):\n",
    "        r = np.sqrt(x**2 + y**2)\n",
    "        return np.logical_and(inner_radius < r, r < outer_radius)\n",
    "    return pb.FreeformShape(contains, width=[2*outer_radius, 2*outer_radius])\n",
    "\n",
    "model = pb.Model(graphene.monolayer(), ring(0.8, 2))\n",
    "model.plot()"
   ]
  },
  {
   "cell_type": "markdown",
   "metadata": {},
   "source": [
    "To attach a lead to this system, we call the [`Model.attach_lead()`](http://docs.pybinding.site/page/tutorial/../_api/pybinding.Model.html#pybinding.Model.attach_lead) method:"
   ]
  },
  {
   "cell_type": "code",
   "execution_count": null,
   "metadata": {},
   "outputs": [],
   "source": [
    "model.attach_lead(direction=-1, contact=pb.line([-2, -1], [-2, 1]))\n",
    "\n",
    "plt.figure(figsize=(6, 3))  # make the figure wider\n",
    "model.plot()"
   ]
  },
  {
   "cell_type": "markdown",
   "metadata": {},
   "source": [
    "The lead is semi-infinite, but to be practical for the figure, only a few repetitions of the lead's unit cell are drawn. They fade out gradually along the direction where the lead goes to infinity. The periodic hoppings between the unit cells are shown in red. The label indicates that this lead has the index 0. It's attributes can be accessed using this index and the [`Model.leads`](http://docs.pybinding.site/page/tutorial/../_api/pybinding.Model.html#pybinding.Model.leads) list. The lead was created using two parameters: `direction` and the `contact` shape. To illustrate the meaning of these parameters, we'll draw them using the [`Lead.plot_contact()`](http://docs.pybinding.site/page/tutorial/../_api/pybinding.leads.html#pybinding.leads.Lead.plot_contact) method:"
   ]
  },
  {
   "cell_type": "code",
   "execution_count": null,
   "metadata": {},
   "outputs": [],
   "source": [
    "plt.figure(figsize=(6, 3))  # make the figure wider\n",
    "model.plot()\n",
    "model.leads[0].plot_contact()  # red shaded area and arrow\n",
    "model.lattice.plot_vectors(position=[-2.5, 1.5], scale=3)"
   ]
  },
  {
   "cell_type": "markdown",
   "metadata": {},
   "source": [
    "The direction of a lead is specified in terms of lattice vectors. In this case `direction=-1` indicates that it should be opposite the $a_1$ lattice vector, as shown in the figure with the arrow labeled $-a_1$. For 2D systems, the allowed directions are $\\pm1, \\pm2$. The position of the lead is chosen by specifying a `contact` shape. The intersection of a semi-infinite lead and a 2D system is a 1D line, which is why we specified `contact=pb.line([-2, -1], [-2, 1])`, where the two parameters given to [`line()`](http://docs.pybinding.site/page/tutorial/../_api/pybinding.line.html#pybinding.line) are point positions. The line is drawn in the figure above in the middle of the red shaded area (the red area itself does not have any physical meaning, it's just there to draw attention to the line).\n",
    "\n",
    "> For a 3D system, the lead contact area would be 2D shape, which could be specified by a [`Polygon`](http://docs.pybinding.site/page/tutorial/../_api/pybinding.Polygon.html#pybinding.Polygon) or a [`FreeformShape`](http://docs.pybinding.site/page/tutorial/../_api/pybinding.FreeformShape.html#pybinding.FreeformShape).\n",
    "\n",
    "We can now proceed to attach a few more leads:"
   ]
  },
  {
   "cell_type": "code",
   "execution_count": null,
   "metadata": {},
   "outputs": [],
   "source": [
    "model.attach_lead(direction=+2, contact=pb.line([-1,  1.8], [1,  1.8]))\n",
    "model.attach_lead(direction=+1, contact=pb.line([ 2, -1  ], [2,  1  ]))\n",
    "model.attach_lead(direction=-2, contact=pb.line([-1, -1.8], [1, -1.8]))\n",
    "\n",
    "plt.figure(figsize=(6.9, 6))\n",
    "model.plot()\n",
    "model.leads[1].plot_contact()\n",
    "model.leads[2].plot_contact()\n",
    "model.lattice.plot_vectors(position=[-2, 2], scale=3)"
   ]
  },
  {
   "cell_type": "markdown",
   "metadata": {},
   "source": [
    "Notice that leads 1 and 3 are not perpendicular to leads 0 and 2. This is due to the angle of the primitive lattice vectors $a_1$ and $a_2$, as shown in the same figure. All of the leads also have zigzag edges because of this primitive vector arrangement. If we substitute the regular graphene lattice with `graphene.monolayer_4atom()`, the primitive vectors will be perpendicular and we'll get different leads in the $\\pm2$ directions:"
   ]
  },
  {
   "cell_type": "code",
   "execution_count": null,
   "metadata": {},
   "outputs": [],
   "source": [
    "model = pb.Model(graphene.monolayer_4atom(), ring(0.8, 2))\n",
    "model.attach_lead(direction=+2, contact=pb.line([-1,  1.8], [1, 1.8]))\n",
    "model.attach_lead(direction=+1, contact=pb.line([ 2, -1  ], [2, 1  ]))\n",
    "model.plot()\n",
    "model.lattice.plot_vectors(position=[2, 2], scale=3)"
   ]
  },
  {
   "cell_type": "markdown",
   "metadata": {},
   "source": [
    "## Lead attributes\n",
    "\n",
    "The attached leads can be accessed using the [`Model.leads`](http://docs.pybinding.site/page/tutorial/../_api/pybinding.Model.html#pybinding.Model.leads) list. Each entry is a [`Lead`](http://docs.pybinding.site/page/tutorial/../_api/pybinding.leads.html#pybinding.leads.Lead) object with a few useful attributes. The unit cell of a lead is described by the Hamiltonian [`Lead.h0`](http://docs.pybinding.site/page/tutorial/../_api/pybinding.leads.html#pybinding.leads.Lead.h0). It's a sparse matrix, just like the [`Model.hamiltonian`](http://docs.pybinding.site/page/tutorial/../_api/pybinding.Model.html#pybinding.Model.hamiltonian) of finite-sized main system. The hoppings between unit cell of the lead are described by the [`Lead.h1`](http://docs.pybinding.site/page/tutorial/../_api/pybinding.leads.html#pybinding.leads.Lead.h1) matrix. See the [`Lead`](http://docs.pybinding.site/page/tutorial/../_api/pybinding.leads.html#pybinding.leads.Lead) API page for more details.\n",
    "\n",
    "Each lead also has a [`Lead.plot_bands()`](http://docs.pybinding.site/page/tutorial/../_api/pybinding.leads.html#pybinding.leads.Lead.plot_bands) method which can be used to quickly view the band structure of an isolated lead. For the last model which was constructed and shown in the figure above, the band plots of the leads are:"
   ]
  },
  {
   "cell_type": "code",
   "execution_count": null,
   "metadata": {},
   "outputs": [],
   "source": [
    "plt.figure(figsize=(6.7, 3))\n",
    "plt.subplot('121')\n",
    "model.leads[0].plot_bands()\n",
    "plt.subplot('122')\n",
    "model.leads[1].plot_bands()"
   ]
  },
  {
   "cell_type": "markdown",
   "metadata": {},
   "source": [
    "This is expected as lead 0 has armchair edges, while lead 1 has zigzag edges.\n",
    "\n",
    "## Fields in the leads\n",
    "\n",
    "There is no need to specifically apply a field to a lead. Fields (and all modifier functions) are always applied globally to both the main system and all leads. For example, we can define a PN junction at $x_0 = 0$ and pass it to the model:"
   ]
  },
  {
   "cell_type": "code",
   "execution_count": null,
   "metadata": {},
   "outputs": [],
   "source": [
    "def pn_junction(x0, v1, v2):\n",
    "    @pb.onsite_energy_modifier\n",
    "    def potential(energy, x):\n",
    "        energy[x < x0] += v1\n",
    "        energy[x >= x0] += v2\n",
    "        return energy\n",
    "    return potential\n",
    "\n",
    "model = pb.Model(\n",
    "    graphene.monolayer_4atom(),\n",
    "    ring(0.8, 2),\n",
    "    pn_junction(x0=0, v1=-1, v2=1)\n",
    ")\n",
    "model.attach_lead(direction=-1, contact=pb.line([-2, -1], [-2,  1]))\n",
    "model.attach_lead(direction=+1, contact=pb.line([ 2, -1], [ 2,  1]))\n",
    "model.plot()"
   ]
  },
  {
   "cell_type": "markdown",
   "metadata": {},
   "source": [
    "We can view the potential applied to the main system using the [`Model.onsite_map`](http://docs.pybinding.site/page/tutorial/../_api/pybinding.Model.html#pybinding.Model.onsite_map) property."
   ]
  },
  {
   "cell_type": "code",
   "execution_count": null,
   "metadata": {},
   "outputs": [],
   "source": [
    "model.onsite_map.plot(cmap=\"coolwarm\", site_radius=0.06)\n",
    "pb.pltutils.colorbar(label=\"U (eV)\")"
   ]
  },
  {
   "cell_type": "markdown",
   "metadata": {},
   "source": [
    "The appropriate potential is automatically applied to the leads depending on their position, left or right of the PN junction. We can quickly check this by plotting the band structure:"
   ]
  },
  {
   "cell_type": "code",
   "execution_count": null,
   "metadata": {},
   "outputs": [],
   "source": [
    "plt.figure(figsize=(6.7, 3))\n",
    "plt.subplot('121')\n",
    "model.leads[0].plot_bands()\n",
    "plt.ylim(-10, 10)\n",
    "plt.subplot('122')\n",
    "model.leads[1].plot_bands()\n",
    "plt.ylim(-10, 10)"
   ]
  },
  {
   "cell_type": "markdown",
   "metadata": {},
   "source": [
    "The leads are identical, except for a $\\pm1$ eV shift due to the PN junction, as expected.\n",
    "\n",
    "## Solving a scattering problem\n",
    "\n",
    "At this time, pybinding doesn't have a builtin solver for scattering problems. However, they can be solved using [Kwant](http://kwant-project.org/). An arbitrary model can be constructed in pybinding and then exported using the [`Model.tokwant()`](http://docs.pybinding.site/page/tutorial/../_api/pybinding.Model.html#pybinding.Model.tokwant) method. See the [Kwant compatibility](http://docs.pybinding.site/page/tutorial/../advanced/kwant.html) page for details.\n",
    "\n",
    "Alternatively, any user-defined solver and/or computation routine can be used. Pybinding generates the model information in a standard CSR matrix format. The required Hamiltonian matrices are [`Model.hamiltonian`](http://docs.pybinding.site/page/tutorial/../_api/pybinding.Model.html#pybinding.Model.hamiltonian) for the main scattering region and [`Lead.h0`](http://docs.pybinding.site/page/tutorial/../_api/pybinding.leads.html#pybinding.leads.Lead.h0) and [`Lead.h1`](http://docs.pybinding.site/page/tutorial/../_api/pybinding.leads.html#pybinding.leads.Lead.h1) for each of the leads found in [`Model.leads`](http://docs.pybinding.site/page/tutorial/../_api/pybinding.Model.html#pybinding.Model.leads). For more information see the [`Model`](http://docs.pybinding.site/page/tutorial/../_api/pybinding.Model.html#pybinding.Model) and [`Lead`](http://docs.pybinding.site/page/tutorial/../_api/pybinding.leads.html#pybinding.leads.Lead) API reference pages."
   ]
  }
 ],
 "metadata": {},
 "nbformat": 4,
 "nbformat_minor": 2
}